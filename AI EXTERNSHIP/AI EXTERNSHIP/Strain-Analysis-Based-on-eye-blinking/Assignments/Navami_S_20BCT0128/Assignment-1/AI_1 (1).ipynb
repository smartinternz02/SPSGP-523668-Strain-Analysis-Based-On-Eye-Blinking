{
  "nbformat": 4,
  "nbformat_minor": 0,
  "metadata": {
    "colab": {
      "provenance": []
    },
    "kernelspec": {
      "name": "python3",
      "display_name": "Python 3"
    },
    "language_info": {
      "name": "python"
    }
  },
  "cells": [
    {
      "cell_type": "markdown",
      "source": [
        "TASK-1\n",
        "\n",
        "Create a pandas dataframe (DataFrame name as 'dF) with numpy random values (4 features and 4 observation)"
      ],
      "metadata": {
        "id": "fsseClMmyLDk"
      }
    },
    {
      "cell_type": "code",
      "execution_count": null,
      "metadata": {
        "colab": {
          "base_uri": "https://localhost:8080/"
        },
        "id": "EkKcAKkJxrpV",
        "outputId": "10b3bf44-ae72-4640-d11d-c64e8e0b0cfd"
      },
      "outputs": [
        {
          "output_type": "stream",
          "name": "stdout",
          "text": [
            "   Feature 1  Feature 2  Feature 3  Feature 4\n",
            "0  -1.560352  -0.030978  -0.620928  -1.464580\n",
            "1   1.411946  -0.476732  -0.780469   1.070268\n",
            "2  -1.282293  -1.327479   0.126338   0.862194\n",
            "3   0.696737  -0.334565  -0.997526   1.598908\n"
          ]
        }
      ],
      "source": [
        "import pandas as pd\n",
        "import numpy as np\n",
        "\n",
        "\n",
        "np.random.seed(50)\n",
        "data = np.random.randn(4, 4)\n",
        "dF = pd.DataFrame(data, columns=['Feature 1', 'Feature 2', 'Feature 3', 'Feature 4'])\n",
        "print(dF)"
      ]
    },
    {
      "cell_type": "markdown",
      "source": [
        "TASK-2\n",
        "\n",
        "Rename the task - 1 'df dataframe column names to 'Random value 1', 'Random value 2', 'Random value 3' & Random value 4'"
      ],
      "metadata": {
        "id": "sWnqeoOnynIt"
      }
    },
    {
      "cell_type": "code",
      "source": [
        "dF.columns = ['Random value 1', 'Random value 2', 'Random value 3', 'Random value 4']\n",
        "print(dF)"
      ],
      "metadata": {
        "id": "NtND7yKEyvqE",
        "colab": {
          "base_uri": "https://localhost:8080/"
        },
        "outputId": "adb38645-85cc-4dbd-aef5-dc0f5ab91301"
      },
      "execution_count": null,
      "outputs": [
        {
          "output_type": "stream",
          "name": "stdout",
          "text": [
            "   Random value 1  Random value 2  Random value 3  Random value 4\n",
            "0       -1.560352       -0.030978       -0.620928       -1.464580\n",
            "1        1.411946       -0.476732       -0.780469        1.070268\n",
            "2       -1.282293       -1.327479        0.126338        0.862194\n",
            "3        0.696737       -0.334565       -0.997526        1.598908\n"
          ]
        }
      ]
    },
    {
      "cell_type": "markdown",
      "source": [
        "TASK-3\n",
        "\n",
        "Find the descriptive statistics of the 'df dataframe."
      ],
      "metadata": {
        "id": "6GnBj2X9AbT0"
      }
    },
    {
      "cell_type": "code",
      "source": [
        "statistics = dF.describe()\n",
        "print(statistics)"
      ],
      "metadata": {
        "colab": {
          "base_uri": "https://localhost:8080/"
        },
        "id": "m5frPkhfAhKx",
        "outputId": "431840c2-b71d-46ab-aaae-9139b4c854ec"
      },
      "execution_count": null,
      "outputs": [
        {
          "output_type": "stream",
          "name": "stdout",
          "text": [
            "       Random value 1  Random value 2  Random value 3  Random value 4\n",
            "count        4.000000        4.000000        4.000000        4.000000\n",
            "mean        -0.183490       -0.542438       -0.568147        0.516697\n",
            "std          1.463253        0.555401        0.488038        1.356767\n",
            "min         -1.560352       -1.327479       -0.997526       -1.464580\n",
            "25%         -1.351807       -0.689419       -0.834733        0.280500\n",
            "50%         -0.292778       -0.405649       -0.700699        0.966231\n",
            "75%          0.875539       -0.258668       -0.434112        1.202428\n",
            "max          1.411946       -0.030978        0.126338        1.598908\n"
          ]
        }
      ]
    },
    {
      "cell_type": "markdown",
      "source": [
        "TASK-4\n",
        "\n",
        "Check for the null values in 'df and find the data trpe of the columns."
      ],
      "metadata": {
        "id": "DAcAQC1RAmZD"
      }
    },
    {
      "cell_type": "code",
      "source": [
        "null_values = dF.isnull().sum()\n",
        "data_types = dF.dtypes\n",
        "print(\"Null Values:\")\n",
        "print(null_values)\n",
        "print(\"\\nData Types:\")\n",
        "print(data_types)"
      ],
      "metadata": {
        "colab": {
          "base_uri": "https://localhost:8080/"
        },
        "id": "J6FBvsDOApuu",
        "outputId": "e1e1d11a-78eb-40e1-df86-4cc5b42c97b3"
      },
      "execution_count": null,
      "outputs": [
        {
          "output_type": "stream",
          "name": "stdout",
          "text": [
            "Null Values:\n",
            "Random value 1    0\n",
            "Random value 2    0\n",
            "Random value 3    0\n",
            "Random value 4    0\n",
            "dtype: int64\n",
            "\n",
            "Data Types:\n",
            "Random value 1    float64\n",
            "Random value 2    float64\n",
            "Random value 3    float64\n",
            "Random value 4    float64\n",
            "dtype: object\n"
          ]
        }
      ]
    },
    {
      "cell_type": "code",
      "source": [],
      "metadata": {
        "id": "SQnf7nO4vDxu"
      },
      "execution_count": null,
      "outputs": []
    },
    {
      "cell_type": "markdown",
      "source": [
        "TASK-5\n",
        "\n",
        "Display the 'Random value 2' & 'Random value 3' columns with location method and index location method."
      ],
      "metadata": {
        "id": "YxNuHuqAAvzK"
      }
    },
    {
      "cell_type": "code",
      "source": [
        "location_columns = dF[['Random value 2', 'Random value 3']]\n",
        "print(\"Location Method:\")\n",
        "print(location_columns)\n",
        "\n",
        "# Display columns using the index location method\n",
        "index_location_columns = dF.iloc[:, [1, 2]]\n",
        "print(\"\\nIndex Location Method:\")\n",
        "print(index_location_columns)"
      ],
      "metadata": {
        "colab": {
          "base_uri": "https://localhost:8080/"
        },
        "id": "dNoxwzF9AwyP",
        "outputId": "6c0628ac-ee85-4c8a-bf1f-6ef7d3afab9a"
      },
      "execution_count": null,
      "outputs": [
        {
          "output_type": "stream",
          "name": "stdout",
          "text": [
            "Location Method:\n",
            "   Random value 2  Random value 3\n",
            "0       -0.030978       -0.620928\n",
            "1       -0.476732       -0.780469\n",
            "2       -1.327479        0.126338\n",
            "3       -0.334565       -0.997526\n",
            "\n",
            "Index Location Method:\n",
            "   Random value 2  Random value 3\n",
            "0       -0.030978       -0.620928\n",
            "1       -0.476732       -0.780469\n",
            "2       -1.327479        0.126338\n",
            "3       -0.334565       -0.997526\n"
          ]
        }
      ]
    }
  ]
}