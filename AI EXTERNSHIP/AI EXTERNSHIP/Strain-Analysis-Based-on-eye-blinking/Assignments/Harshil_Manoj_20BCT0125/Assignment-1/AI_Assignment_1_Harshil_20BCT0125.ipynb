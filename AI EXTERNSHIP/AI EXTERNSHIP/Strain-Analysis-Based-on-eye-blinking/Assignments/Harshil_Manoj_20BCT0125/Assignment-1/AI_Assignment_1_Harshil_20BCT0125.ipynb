{
  "nbformat": 4,
  "nbformat_minor": 0,
  "metadata": {
    "colab": {
      "provenance": []
    },
    "kernelspec": {
      "name": "python3",
      "display_name": "Python 3"
    },
    "language_info": {
      "name": "python"
    }
  },
  "cells": [
    {
      "cell_type": "markdown",
      "source": [
        "TASK-1\n",
        "\n",
        "Create a pandas dataframe (DataFrame name as 'dF) with numpy random values (4 features and 4 observation)"
      ],
      "metadata": {
        "id": "7THFVkWGdZjt"
      }
    },
    {
      "cell_type": "code",
      "execution_count": null,
      "metadata": {
        "colab": {
          "base_uri": "https://localhost:8080/"
        },
        "id": "gYVCm2jcMy8G",
        "outputId": "fc30b0fd-5aec-4922-bb46-fa0b532445a7"
      },
      "outputs": [
        {
          "output_type": "stream",
          "name": "stdout",
          "text": [
            "   Feature 1  Feature 2  Feature 3  Feature 4\n",
            "0  -1.560352  -0.030978  -0.620928  -1.464580\n",
            "1   1.411946  -0.476732  -0.780469   1.070268\n",
            "2  -1.282293  -1.327479   0.126338   0.862194\n",
            "3   0.696737  -0.334565  -0.997526   1.598908\n"
          ]
        }
      ],
      "source": [
        "import numpy as np \n",
        "import pandas as pd\n",
        "\n",
        "np.random.seed(50)\n",
        "data = np.random.randn(4, 4)\n",
        "df = pd.DataFrame(data, columns=['Feature 1', 'Feature 2', 'Feature 3', 'Feature 4'])\n",
        "print(df)"
      ]
    },
    {
      "cell_type": "markdown",
      "source": [
        "TASK-2\n",
        "\n",
        "Rename the task - 1 'df dataframe column names to 'Random value 1', 'Random value 2', 'Random value 3' & Random value 4'"
      ],
      "metadata": {
        "id": "CiSbewW7dc2v"
      }
    },
    {
      "cell_type": "code",
      "source": [
        "df.columns = ['Random value 1', 'Random value 2', 'Random value 3', 'Random value 4']\n",
        "print(df)"
      ],
      "metadata": {
        "colab": {
          "base_uri": "https://localhost:8080/"
        },
        "id": "eUAYWIhPNKrI",
        "outputId": "9cc9b169-b0d7-426c-c47a-0fd206bb37f7"
      },
      "execution_count": null,
      "outputs": [
        {
          "output_type": "stream",
          "name": "stdout",
          "text": [
            "   Random value 1  Random value 2  Random value 3  Random value 4\n",
            "0       -1.560352       -0.030978       -0.620928       -1.464580\n",
            "1        1.411946       -0.476732       -0.780469        1.070268\n",
            "2       -1.282293       -1.327479        0.126338        0.862194\n",
            "3        0.696737       -0.334565       -0.997526        1.598908\n"
          ]
        }
      ]
    },
    {
      "cell_type": "markdown",
      "source": [
        "TASK-3\n",
        "\n",
        "Find the descriptive statistics of the 'df dataframe."
      ],
      "metadata": {
        "id": "i7K4b-L2dgZa"
      }
    },
    {
      "cell_type": "code",
      "source": [
        "statistics = df.describe()\n",
        "print(statistics)"
      ],
      "metadata": {
        "colab": {
          "base_uri": "https://localhost:8080/"
        },
        "id": "axpqhBJYNYtB",
        "outputId": "2263f212-fff5-4950-b841-c7a01a308a15"
      },
      "execution_count": null,
      "outputs": [
        {
          "output_type": "stream",
          "name": "stdout",
          "text": [
            "       Random value 1  Random value 2  Random value 3  Random value 4\n",
            "count        4.000000        4.000000        4.000000        4.000000\n",
            "mean        -0.183490       -0.542438       -0.568147        0.516697\n",
            "std          1.463253        0.555401        0.488038        1.356767\n",
            "min         -1.560352       -1.327479       -0.997526       -1.464580\n",
            "25%         -1.351807       -0.689419       -0.834733        0.280500\n",
            "50%         -0.292778       -0.405649       -0.700699        0.966231\n",
            "75%          0.875539       -0.258668       -0.434112        1.202428\n",
            "max          1.411946       -0.030978        0.126338        1.598908\n"
          ]
        }
      ]
    },
    {
      "cell_type": "code",
      "source": [
        "null_values = df.isnull().sum()\n",
        "data_types = df.dtypes\n",
        "print(\"Null Values:\")\n",
        "print(null_values)\n",
        "print(\"\\nData Types:\")\n",
        "print(data_types)"
      ],
      "metadata": {
        "colab": {
          "base_uri": "https://localhost:8080/"
        },
        "id": "Rhl81ErLNdd9",
        "outputId": "728b879f-4669-4aa0-fcf9-b11ad18b0301"
      },
      "execution_count": null,
      "outputs": [
        {
          "output_type": "stream",
          "name": "stdout",
          "text": [
            "Null Values:\n",
            "Random value 1    0\n",
            "Random value 2    0\n",
            "Random value 3    0\n",
            "Random value 4    0\n",
            "dtype: int64\n",
            "\n",
            "Data Types:\n",
            "Random value 1    float64\n",
            "Random value 2    float64\n",
            "Random value 3    float64\n",
            "Random value 4    float64\n",
            "dtype: object\n"
          ]
        }
      ]
    },
    {
      "cell_type": "code",
      "source": [
        "location_columns = df[['Random value 2', 'Random value 3']]\n",
        "print(\"Location Method:\")\n",
        "print(location_columns)\n",
        "\n",
        "# Display columns using the index location method\n",
        "index_location_columns = dF.iloc[:, [1, 2]]\n",
        "print(\"\\nIndex Location Method:\")\n",
        "print(index_location_columns)"
      ],
      "metadata": {
        "colab": {
          "base_uri": "https://localhost:8080/"
        },
        "id": "jBlR1GdmNeef",
        "outputId": "07e36d22-c55e-4c7b-e809-278169afa3c9"
      },
      "execution_count": null,
      "outputs": [
        {
          "output_type": "stream",
          "name": "stdout",
          "text": [
            "Location Method:\n",
            "   Random value 2  Random value 3\n",
            "0       -0.030978       -0.620928\n",
            "1       -0.476732       -0.780469\n",
            "2       -1.327479        0.126338\n",
            "3       -0.334565       -0.997526\n",
            "\n",
            "Index Location Method:\n",
            "   Feature 2  Feature 3\n",
            "0  -0.030978  -0.620928\n",
            "1  -0.476732  -0.780469\n",
            "2  -1.327479   0.126338\n",
            "3  -0.334565  -0.997526\n"
          ]
        }
      ]
    }
  ]
}